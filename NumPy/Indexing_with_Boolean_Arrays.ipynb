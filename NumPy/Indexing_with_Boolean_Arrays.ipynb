{
  "nbformat": 4,
  "nbformat_minor": 0,
  "metadata": {
    "colab": {
      "provenance": []
    },
    "kernelspec": {
      "name": "python3",
      "display_name": "Python 3"
    },
    "language_info": {
      "name": "python"
    }
  },
  "cells": [
    {
      "cell_type": "code",
      "execution_count": 1,
      "metadata": {
        "id": "HDVCWay7O4T_"
      },
      "outputs": [],
      "source": [
        "import numpy as np"
      ]
    },
    {
      "cell_type": "code",
      "source": [
        "arr = np.random.randint(low=1,high=100,size=20).reshape(4,5)"
      ],
      "metadata": {
        "id": "XDAH-0yRQccT"
      },
      "execution_count": 2,
      "outputs": []
    },
    {
      "cell_type": "code",
      "source": [
        "arr"
      ],
      "metadata": {
        "colab": {
          "base_uri": "https://localhost:8080/"
        },
        "id": "CTTS86vDQr74",
        "outputId": "8d4aa1d9-d6e4-4c60-c0d2-1e08e6fc7fad"
      },
      "execution_count": 3,
      "outputs": [
        {
          "output_type": "execute_result",
          "data": {
            "text/plain": [
              "array([[24, 70, 59, 72, 61],\n",
              "       [ 3, 57, 11, 51, 52],\n",
              "       [52, 92, 19, 56, 30],\n",
              "       [58,  2, 93, 29, 85]])"
            ]
          },
          "metadata": {},
          "execution_count": 3
        }
      ]
    },
    {
      "cell_type": "code",
      "source": [
        "#Indexing using Boolean Arrays\n",
        "arr[arr>50]"
      ],
      "metadata": {
        "colab": {
          "base_uri": "https://localhost:8080/"
        },
        "id": "b9e0NCfJQtvD",
        "outputId": "2a3b22d3-1f4c-4533-e631-b98b89942c7d"
      },
      "execution_count": 4,
      "outputs": [
        {
          "output_type": "execute_result",
          "data": {
            "text/plain": [
              "array([70, 59, 72, 61, 57, 51, 52, 52, 92, 56, 58, 93, 85])"
            ]
          },
          "metadata": {},
          "execution_count": 4
        }
      ]
    },
    {
      "cell_type": "code",
      "source": [
        "arr[(arr>50) & (arr%2!=0)]"
      ],
      "metadata": {
        "colab": {
          "base_uri": "https://localhost:8080/"
        },
        "id": "lrkItMMaRL1u",
        "outputId": "6a581514-83f4-4078-ab11-f8fcdc708e90"
      },
      "execution_count": 5,
      "outputs": [
        {
          "output_type": "execute_result",
          "data": {
            "text/plain": [
              "array([59, 61, 57, 51, 93, 85])"
            ]
          },
          "metadata": {},
          "execution_count": 5
        }
      ]
    },
    {
      "cell_type": "code",
      "source": [
        "arr[(arr>50) & (arr%2!=0)] = 0"
      ],
      "metadata": {
        "id": "6phWbP9ZRbIi"
      },
      "execution_count": 6,
      "outputs": []
    },
    {
      "cell_type": "code",
      "source": [
        "arr"
      ],
      "metadata": {
        "colab": {
          "base_uri": "https://localhost:8080/"
        },
        "id": "OTKJbWLCRs_8",
        "outputId": "7ad9e261-1aee-4ee0-b9b2-97b06d6391fe"
      },
      "execution_count": 7,
      "outputs": [
        {
          "output_type": "execute_result",
          "data": {
            "text/plain": [
              "array([[24, 70,  0, 72,  0],\n",
              "       [ 3,  0, 11,  0, 52],\n",
              "       [52, 92, 19, 56, 30],\n",
              "       [58,  2,  0, 29,  0]])"
            ]
          },
          "metadata": {},
          "execution_count": 7
        }
      ]
    }
  ]
}